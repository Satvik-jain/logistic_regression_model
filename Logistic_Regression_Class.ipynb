{
 "cells": [
  {
   "cell_type": "code",
   "execution_count": 1,
   "id": "3f7667d6-5a59-4e68-b6cf-e4c9ba2e8c43",
   "metadata": {},
   "outputs": [],
   "source": [
    "import numpy as np\n",
    "import matplotlib.pyplot as plt\n",
    "import pandas as pd\n",
    "import seaborn as sns"
   ]
  },
  {
   "cell_type": "code",
   "execution_count": 2,
   "id": "60c4dfd1-ea82-45df-98e6-5ef575bd3190",
   "metadata": {},
   "outputs": [],
   "source": [
    "class LogisticRegression:\n",
    "    def __init__(self):\n",
    "        self.weights = None\n",
    "        self.bias = 0\n",
    "        self.m = 0\n",
    "        self.n = 0\n",
    "        self.cost_values = np.array([])\n",
    "        \n",
    "    def Fit(self, df_features, df_prob, learning_rate):\n",
    "        self.m, self.n = df_features.shape\n",
    "        self.weights = np.zeros((self.n,1))\n",
    "        df_prob = df_prob.to_numpy()\n",
    "        df_prob_pred = self.sigmoid(df_features)\n",
    "\n",
    "        self.GD(df_prob, df_features, learning_rate)\n",
    "\n",
    "\n",
    "    def GD(self, y, x, rate):\n",
    "        iterations = 1 \n",
    "        while iterations < 10000: \n",
    "            y_pred = self.sigmoid(x)\n",
    "            self.cost_values = np.append(self.cost_function(y_pred,y),self.cost_values)\n",
    "            dw = (1/self.m) * np.dot(x.T,(y_pred - y))\n",
    "            db = (1/self.m) * np.sum(y_pred - y)\n",
    "            self.weights -= rate*dw\n",
    "            self.bias -= rate*db\n",
    "            iterations += 1\n",
    "\n",
    "    def cost_function(self,y_hat,y):\n",
    "        # np.append(self.cost_values,[(1/self.m) * (np.dot(y.T,np.log(y_hat)) + np.dot((1-y).T,np.log(1-y_hat)))])\n",
    "        return [((1/self.m) * (np.dot(y.T,np.log(y_hat)) + np.dot((1-y).T,np.log(1-y_hat))))]\n",
    "    \n",
    "    def sigmoid(self, features):\n",
    "        z = np.dot(features, self.weights) + self.bias\n",
    "        return 1/(1+np.exp(-1*z))\n",
    "        \n",
    "    def predict(self, features):\n",
    "        z = np.dot(features, self.weights) + self.bias\n",
    "        return np.where(z > 0, 1, 0)\n",
    "\n",
    "    def Split(self, df, train_fraction): # I used train fraction as a parameter to be more flexible :)\n",
    "        df_train = df.sample(frac = train_fraction)\n",
    "        df_test = df.iloc[[indices for indices in df.index if indices not in df_train.index]]\n",
    "        return df_train,df_test        "
   ]
  },
  {
   "cell_type": "code",
   "execution_count": 3,
   "id": "99419afd-e60b-4aab-9bf6-a6dfbaeca912",
   "metadata": {},
   "outputs": [],
   "source": [
    "df = pd.read_csv(\"diabetes (1).csv\")"
   ]
  },
  {
   "cell_type": "markdown",
   "id": "43830a5e-88c0-4ba3-ac40-0242b3cac78c",
   "metadata": {},
   "source": [
    "## Now i will implement Z-Normalization scalling"
   ]
  },
  {
   "cell_type": "code",
   "execution_count": 4,
   "id": "50c023cb-a605-4933-b0d3-440004fb31f5",
   "metadata": {},
   "outputs": [
    {
     "data": {
      "text/html": [
       "<div>\n",
       "<style scoped>\n",
       "    .dataframe tbody tr th:only-of-type {\n",
       "        vertical-align: middle;\n",
       "    }\n",
       "\n",
       "    .dataframe tbody tr th {\n",
       "        vertical-align: top;\n",
       "    }\n",
       "\n",
       "    .dataframe thead th {\n",
       "        text-align: right;\n",
       "    }\n",
       "</style>\n",
       "<table border=\"1\" class=\"dataframe\">\n",
       "  <thead>\n",
       "    <tr style=\"text-align: right;\">\n",
       "      <th></th>\n",
       "      <th>Pregnancies</th>\n",
       "      <th>Glucose</th>\n",
       "      <th>BloodPressure</th>\n",
       "      <th>SkinThickness</th>\n",
       "      <th>Insulin</th>\n",
       "      <th>BMI</th>\n",
       "      <th>DiabetesPedigreeFunction</th>\n",
       "      <th>Age</th>\n",
       "      <th>Outcome</th>\n",
       "    </tr>\n",
       "  </thead>\n",
       "  <tbody>\n",
       "    <tr>\n",
       "      <th>0</th>\n",
       "      <td>6</td>\n",
       "      <td>148</td>\n",
       "      <td>72</td>\n",
       "      <td>35</td>\n",
       "      <td>0</td>\n",
       "      <td>33.6</td>\n",
       "      <td>0.627</td>\n",
       "      <td>50</td>\n",
       "      <td>1</td>\n",
       "    </tr>\n",
       "    <tr>\n",
       "      <th>1</th>\n",
       "      <td>1</td>\n",
       "      <td>85</td>\n",
       "      <td>66</td>\n",
       "      <td>29</td>\n",
       "      <td>0</td>\n",
       "      <td>26.6</td>\n",
       "      <td>0.351</td>\n",
       "      <td>31</td>\n",
       "      <td>0</td>\n",
       "    </tr>\n",
       "    <tr>\n",
       "      <th>2</th>\n",
       "      <td>8</td>\n",
       "      <td>183</td>\n",
       "      <td>64</td>\n",
       "      <td>0</td>\n",
       "      <td>0</td>\n",
       "      <td>23.3</td>\n",
       "      <td>0.672</td>\n",
       "      <td>32</td>\n",
       "      <td>1</td>\n",
       "    </tr>\n",
       "    <tr>\n",
       "      <th>3</th>\n",
       "      <td>1</td>\n",
       "      <td>89</td>\n",
       "      <td>66</td>\n",
       "      <td>23</td>\n",
       "      <td>94</td>\n",
       "      <td>28.1</td>\n",
       "      <td>0.167</td>\n",
       "      <td>21</td>\n",
       "      <td>0</td>\n",
       "    </tr>\n",
       "    <tr>\n",
       "      <th>4</th>\n",
       "      <td>0</td>\n",
       "      <td>137</td>\n",
       "      <td>40</td>\n",
       "      <td>35</td>\n",
       "      <td>168</td>\n",
       "      <td>43.1</td>\n",
       "      <td>2.288</td>\n",
       "      <td>33</td>\n",
       "      <td>1</td>\n",
       "    </tr>\n",
       "    <tr>\n",
       "      <th>...</th>\n",
       "      <td>...</td>\n",
       "      <td>...</td>\n",
       "      <td>...</td>\n",
       "      <td>...</td>\n",
       "      <td>...</td>\n",
       "      <td>...</td>\n",
       "      <td>...</td>\n",
       "      <td>...</td>\n",
       "      <td>...</td>\n",
       "    </tr>\n",
       "    <tr>\n",
       "      <th>763</th>\n",
       "      <td>10</td>\n",
       "      <td>101</td>\n",
       "      <td>76</td>\n",
       "      <td>48</td>\n",
       "      <td>180</td>\n",
       "      <td>32.9</td>\n",
       "      <td>0.171</td>\n",
       "      <td>63</td>\n",
       "      <td>0</td>\n",
       "    </tr>\n",
       "    <tr>\n",
       "      <th>764</th>\n",
       "      <td>2</td>\n",
       "      <td>122</td>\n",
       "      <td>70</td>\n",
       "      <td>27</td>\n",
       "      <td>0</td>\n",
       "      <td>36.8</td>\n",
       "      <td>0.340</td>\n",
       "      <td>27</td>\n",
       "      <td>0</td>\n",
       "    </tr>\n",
       "    <tr>\n",
       "      <th>765</th>\n",
       "      <td>5</td>\n",
       "      <td>121</td>\n",
       "      <td>72</td>\n",
       "      <td>23</td>\n",
       "      <td>112</td>\n",
       "      <td>26.2</td>\n",
       "      <td>0.245</td>\n",
       "      <td>30</td>\n",
       "      <td>0</td>\n",
       "    </tr>\n",
       "    <tr>\n",
       "      <th>766</th>\n",
       "      <td>1</td>\n",
       "      <td>126</td>\n",
       "      <td>60</td>\n",
       "      <td>0</td>\n",
       "      <td>0</td>\n",
       "      <td>30.1</td>\n",
       "      <td>0.349</td>\n",
       "      <td>47</td>\n",
       "      <td>1</td>\n",
       "    </tr>\n",
       "    <tr>\n",
       "      <th>767</th>\n",
       "      <td>1</td>\n",
       "      <td>93</td>\n",
       "      <td>70</td>\n",
       "      <td>31</td>\n",
       "      <td>0</td>\n",
       "      <td>30.4</td>\n",
       "      <td>0.315</td>\n",
       "      <td>23</td>\n",
       "      <td>0</td>\n",
       "    </tr>\n",
       "  </tbody>\n",
       "</table>\n",
       "<p>768 rows × 9 columns</p>\n",
       "</div>"
      ],
      "text/plain": [
       "     Pregnancies  Glucose  BloodPressure  SkinThickness  Insulin   BMI  \\\n",
       "0              6      148             72             35        0  33.6   \n",
       "1              1       85             66             29        0  26.6   \n",
       "2              8      183             64              0        0  23.3   \n",
       "3              1       89             66             23       94  28.1   \n",
       "4              0      137             40             35      168  43.1   \n",
       "..           ...      ...            ...            ...      ...   ...   \n",
       "763           10      101             76             48      180  32.9   \n",
       "764            2      122             70             27        0  36.8   \n",
       "765            5      121             72             23      112  26.2   \n",
       "766            1      126             60              0        0  30.1   \n",
       "767            1       93             70             31        0  30.4   \n",
       "\n",
       "     DiabetesPedigreeFunction  Age  Outcome  \n",
       "0                       0.627   50        1  \n",
       "1                       0.351   31        0  \n",
       "2                       0.672   32        1  \n",
       "3                       0.167   21        0  \n",
       "4                       2.288   33        1  \n",
       "..                        ...  ...      ...  \n",
       "763                     0.171   63        0  \n",
       "764                     0.340   27        0  \n",
       "765                     0.245   30        0  \n",
       "766                     0.349   47        1  \n",
       "767                     0.315   23        0  \n",
       "\n",
       "[768 rows x 9 columns]"
      ]
     },
     "execution_count": 4,
     "metadata": {},
     "output_type": "execute_result"
    }
   ],
   "source": [
    "df_orignial = df\n",
    "df"
   ]
  },
  {
   "cell_type": "code",
   "execution_count": 5,
   "id": "0632105c-d8ee-4b36-b29d-9b520186b934",
   "metadata": {},
   "outputs": [],
   "source": [
    "for feature in df.keys():\n",
    "    if feature != 'Outcome':\n",
    "        df[feature] = (df[feature] - df[feature].mean())/df[feature].std()"
   ]
  },
  {
   "cell_type": "code",
   "execution_count": 6,
   "id": "bc38b092-ffcc-4d83-8e64-078a82a60f33",
   "metadata": {},
   "outputs": [
    {
     "data": {
      "text/html": [
       "<div>\n",
       "<style scoped>\n",
       "    .dataframe tbody tr th:only-of-type {\n",
       "        vertical-align: middle;\n",
       "    }\n",
       "\n",
       "    .dataframe tbody tr th {\n",
       "        vertical-align: top;\n",
       "    }\n",
       "\n",
       "    .dataframe thead th {\n",
       "        text-align: right;\n",
       "    }\n",
       "</style>\n",
       "<table border=\"1\" class=\"dataframe\">\n",
       "  <thead>\n",
       "    <tr style=\"text-align: right;\">\n",
       "      <th></th>\n",
       "      <th>Pregnancies</th>\n",
       "      <th>Glucose</th>\n",
       "      <th>BloodPressure</th>\n",
       "      <th>SkinThickness</th>\n",
       "      <th>Insulin</th>\n",
       "      <th>BMI</th>\n",
       "      <th>DiabetesPedigreeFunction</th>\n",
       "      <th>Age</th>\n",
       "      <th>Outcome</th>\n",
       "    </tr>\n",
       "  </thead>\n",
       "  <tbody>\n",
       "    <tr>\n",
       "      <th>0</th>\n",
       "      <td>0.639530</td>\n",
       "      <td>0.847771</td>\n",
       "      <td>0.149543</td>\n",
       "      <td>0.906679</td>\n",
       "      <td>-0.692439</td>\n",
       "      <td>0.203880</td>\n",
       "      <td>0.468187</td>\n",
       "      <td>1.425067</td>\n",
       "      <td>1</td>\n",
       "    </tr>\n",
       "    <tr>\n",
       "      <th>1</th>\n",
       "      <td>-0.844335</td>\n",
       "      <td>-1.122665</td>\n",
       "      <td>-0.160441</td>\n",
       "      <td>0.530556</td>\n",
       "      <td>-0.692439</td>\n",
       "      <td>-0.683976</td>\n",
       "      <td>-0.364823</td>\n",
       "      <td>-0.190548</td>\n",
       "      <td>0</td>\n",
       "    </tr>\n",
       "    <tr>\n",
       "      <th>2</th>\n",
       "      <td>1.233077</td>\n",
       "      <td>1.942458</td>\n",
       "      <td>-0.263769</td>\n",
       "      <td>-1.287373</td>\n",
       "      <td>-0.692439</td>\n",
       "      <td>-1.102537</td>\n",
       "      <td>0.604004</td>\n",
       "      <td>-0.105515</td>\n",
       "      <td>1</td>\n",
       "    </tr>\n",
       "    <tr>\n",
       "      <th>3</th>\n",
       "      <td>-0.844335</td>\n",
       "      <td>-0.997558</td>\n",
       "      <td>-0.160441</td>\n",
       "      <td>0.154433</td>\n",
       "      <td>0.123221</td>\n",
       "      <td>-0.493721</td>\n",
       "      <td>-0.920163</td>\n",
       "      <td>-1.040871</td>\n",
       "      <td>0</td>\n",
       "    </tr>\n",
       "    <tr>\n",
       "      <th>4</th>\n",
       "      <td>-1.141108</td>\n",
       "      <td>0.503727</td>\n",
       "      <td>-1.503707</td>\n",
       "      <td>0.906679</td>\n",
       "      <td>0.765337</td>\n",
       "      <td>1.408828</td>\n",
       "      <td>5.481337</td>\n",
       "      <td>-0.020483</td>\n",
       "      <td>1</td>\n",
       "    </tr>\n",
       "    <tr>\n",
       "      <th>...</th>\n",
       "      <td>...</td>\n",
       "      <td>...</td>\n",
       "      <td>...</td>\n",
       "      <td>...</td>\n",
       "      <td>...</td>\n",
       "      <td>...</td>\n",
       "      <td>...</td>\n",
       "      <td>...</td>\n",
       "      <td>...</td>\n",
       "    </tr>\n",
       "    <tr>\n",
       "      <th>763</th>\n",
       "      <td>1.826623</td>\n",
       "      <td>-0.622237</td>\n",
       "      <td>0.356200</td>\n",
       "      <td>1.721613</td>\n",
       "      <td>0.869464</td>\n",
       "      <td>0.115094</td>\n",
       "      <td>-0.908090</td>\n",
       "      <td>2.530487</td>\n",
       "      <td>0</td>\n",
       "    </tr>\n",
       "    <tr>\n",
       "      <th>764</th>\n",
       "      <td>-0.547562</td>\n",
       "      <td>0.034575</td>\n",
       "      <td>0.046215</td>\n",
       "      <td>0.405181</td>\n",
       "      <td>-0.692439</td>\n",
       "      <td>0.609757</td>\n",
       "      <td>-0.398023</td>\n",
       "      <td>-0.530677</td>\n",
       "      <td>0</td>\n",
       "    </tr>\n",
       "    <tr>\n",
       "      <th>765</th>\n",
       "      <td>0.342757</td>\n",
       "      <td>0.003299</td>\n",
       "      <td>0.149543</td>\n",
       "      <td>0.154433</td>\n",
       "      <td>0.279412</td>\n",
       "      <td>-0.734711</td>\n",
       "      <td>-0.684747</td>\n",
       "      <td>-0.275580</td>\n",
       "      <td>0</td>\n",
       "    </tr>\n",
       "    <tr>\n",
       "      <th>766</th>\n",
       "      <td>-0.844335</td>\n",
       "      <td>0.159683</td>\n",
       "      <td>-0.470426</td>\n",
       "      <td>-1.287373</td>\n",
       "      <td>-0.692439</td>\n",
       "      <td>-0.240048</td>\n",
       "      <td>-0.370859</td>\n",
       "      <td>1.169970</td>\n",
       "      <td>1</td>\n",
       "    </tr>\n",
       "    <tr>\n",
       "      <th>767</th>\n",
       "      <td>-0.844335</td>\n",
       "      <td>-0.872451</td>\n",
       "      <td>0.046215</td>\n",
       "      <td>0.655930</td>\n",
       "      <td>-0.692439</td>\n",
       "      <td>-0.201997</td>\n",
       "      <td>-0.473476</td>\n",
       "      <td>-0.870806</td>\n",
       "      <td>0</td>\n",
       "    </tr>\n",
       "  </tbody>\n",
       "</table>\n",
       "<p>768 rows × 9 columns</p>\n",
       "</div>"
      ],
      "text/plain": [
       "     Pregnancies   Glucose  BloodPressure  SkinThickness   Insulin       BMI  \\\n",
       "0       0.639530  0.847771       0.149543       0.906679 -0.692439  0.203880   \n",
       "1      -0.844335 -1.122665      -0.160441       0.530556 -0.692439 -0.683976   \n",
       "2       1.233077  1.942458      -0.263769      -1.287373 -0.692439 -1.102537   \n",
       "3      -0.844335 -0.997558      -0.160441       0.154433  0.123221 -0.493721   \n",
       "4      -1.141108  0.503727      -1.503707       0.906679  0.765337  1.408828   \n",
       "..           ...       ...            ...            ...       ...       ...   \n",
       "763     1.826623 -0.622237       0.356200       1.721613  0.869464  0.115094   \n",
       "764    -0.547562  0.034575       0.046215       0.405181 -0.692439  0.609757   \n",
       "765     0.342757  0.003299       0.149543       0.154433  0.279412 -0.734711   \n",
       "766    -0.844335  0.159683      -0.470426      -1.287373 -0.692439 -0.240048   \n",
       "767    -0.844335 -0.872451       0.046215       0.655930 -0.692439 -0.201997   \n",
       "\n",
       "     DiabetesPedigreeFunction       Age  Outcome  \n",
       "0                    0.468187  1.425067        1  \n",
       "1                   -0.364823 -0.190548        0  \n",
       "2                    0.604004 -0.105515        1  \n",
       "3                   -0.920163 -1.040871        0  \n",
       "4                    5.481337 -0.020483        1  \n",
       "..                        ...       ...      ...  \n",
       "763                 -0.908090  2.530487        0  \n",
       "764                 -0.398023 -0.530677        0  \n",
       "765                 -0.684747 -0.275580        0  \n",
       "766                 -0.370859  1.169970        1  \n",
       "767                 -0.473476 -0.870806        0  \n",
       "\n",
       "[768 rows x 9 columns]"
      ]
     },
     "execution_count": 6,
     "metadata": {},
     "output_type": "execute_result"
    }
   ],
   "source": [
    "df # after scalling"
   ]
  },
  {
   "cell_type": "code",
   "execution_count": 7,
   "id": "0848514c-8c70-42ff-bd13-01aa64f83602",
   "metadata": {},
   "outputs": [],
   "source": [
    "lr = LogisticRegression()"
   ]
  },
  {
   "cell_type": "code",
   "execution_count": 8,
   "id": "c0257e75-1b01-4adf-a30c-917e996fa5cb",
   "metadata": {},
   "outputs": [],
   "source": [
    "df_train,df_test = lr.Split(df, 0.8)"
   ]
  },
  {
   "cell_type": "code",
   "execution_count": 9,
   "id": "a851003c-cf4d-4b8d-a695-17d053393f04",
   "metadata": {},
   "outputs": [],
   "source": [
    "df_features = df.columns.values.tolist() # Since we know df can be treated as a dictionary of lists\n",
    "df_features.pop(8)\n",
    "x_train = df_train[df_features]\n",
    "y_train = df_train[['Outcome']]\n",
    "x_test = df_test[df_features]\n",
    "y_test = df_test[['Outcome']]"
   ]
  },
  {
   "cell_type": "code",
   "execution_count": 10,
   "id": "49b5d55b-5476-4364-975a-5443861bef7d",
   "metadata": {},
   "outputs": [],
   "source": [
    "lr.Fit(x_train, y_train, learning_rate = 0.001)"
   ]
  },
  {
   "cell_type": "code",
   "execution_count": 11,
   "id": "7b6c85c1-d6d6-4c65-a28c-6df88177c11f",
   "metadata": {},
   "outputs": [
    {
     "data": {
      "text/plain": [
       "array([[ 2.42903144e-01],\n",
       "       [ 7.91197273e-01],\n",
       "       [-8.59711790e-02],\n",
       "       [-1.21688914e-02],\n",
       "       [-1.54426227e-04],\n",
       "       [ 4.91697280e-01],\n",
       "       [ 2.31315308e-01],\n",
       "       [ 2.02858055e-01]])"
      ]
     },
     "execution_count": 11,
     "metadata": {},
     "output_type": "execute_result"
    }
   ],
   "source": [
    "lr.weights"
   ]
  },
  {
   "cell_type": "code",
   "execution_count": 12,
   "id": "b9fe903a-61d0-4652-a523-39ae6b323289",
   "metadata": {},
   "outputs": [
    {
     "data": {
      "text/plain": [
       "-0.522703941459954"
      ]
     },
     "execution_count": 12,
     "metadata": {},
     "output_type": "execute_result"
    }
   ],
   "source": [
    "lr.bias"
   ]
  },
  {
   "cell_type": "code",
   "execution_count": 13,
   "id": "8a99a65d-0c33-476b-8039-28073229d38f",
   "metadata": {},
   "outputs": [
    {
     "data": {
      "text/plain": [
       "array([1, 0, 0, 1, 0, 0, 1, 1, 1, 0, 1, 0, 0, 0, 0, 0, 0, 0, 0, 0, 0, 1,\n",
       "       0, 0, 1, 0, 0, 0, 0, 0, 0, 0, 1, 1, 0, 1, 0, 0, 0, 1, 1, 1, 0, 0,\n",
       "       0, 0, 0, 1, 0, 0, 1, 0, 1, 1, 0, 0, 0, 1, 0, 1, 1, 0, 1, 1, 0, 0,\n",
       "       1, 0, 0, 1, 1, 0, 0, 0, 0, 0, 0, 0, 0, 0, 0, 0, 1, 0, 1, 0, 0, 0,\n",
       "       0, 0, 0, 1, 0, 0, 1, 0, 0, 0, 0, 0, 0, 0, 0, 1, 0, 0, 0, 0, 0, 0,\n",
       "       0, 0, 1, 1, 0, 0, 1, 0, 0, 0, 0, 1, 1, 0, 1, 1, 0, 1, 1, 1, 0, 1,\n",
       "       0, 1, 0, 0, 1, 0, 0, 0, 0, 0, 0, 1, 1, 1, 1, 0, 1, 0, 0, 1, 0, 0])"
      ]
     },
     "execution_count": 13,
     "metadata": {},
     "output_type": "execute_result"
    }
   ],
   "source": [
    "y_pred_test = lr.predict(x_test)\n",
    "y_pred_test.flatten()"
   ]
  },
  {
   "cell_type": "markdown",
   "id": "ba8bf78a-da79-4a09-a86f-c596a65fc116",
   "metadata": {},
   "source": [
    "# Note : I have not used any seed for randomizing the data while spliting\n",
    "## Now i will calculate the percentage accuracy:"
   ]
  },
  {
   "cell_type": "code",
   "execution_count": 14,
   "id": "ea87f414-3cca-431e-ad19-1f439e08e6a6",
   "metadata": {},
   "outputs": [
    {
     "name": "stdout",
     "output_type": "stream",
     "text": [
      "The percetage accuracy of the model on train data is 75.08 %\n"
     ]
    }
   ],
   "source": [
    "percentage = (((lr.predict(x_train) == y_train).sum().values[0])/np.shape((y_train))[0])*100\n",
    "percentage = \"{:.2f}\".format(percentage)\n",
    "print(f\"The percetage accuracy of the model on train data is {percentage} %\")"
   ]
  },
  {
   "cell_type": "code",
   "execution_count": 15,
   "id": "eee2df2a-1db2-4ca2-8737-894975181406",
   "metadata": {},
   "outputs": [
    {
     "name": "stdout",
     "output_type": "stream",
     "text": [
      "The percetage accuracy of the model on test data is 84.42 %\n"
     ]
    }
   ],
   "source": [
    "percentage = (((y_pred_test == y_test).sum().values[0])/np.shape((y_pred_test))[0])*100\n",
    "percentage = \"{:.2f}\".format(percentage)\n",
    "print(f\"The percetage accuracy of the model on test data is {percentage} %\")"
   ]
  },
  {
   "cell_type": "markdown",
   "id": "d3f407dc-ebde-4125-9d6a-a65e1be57d45",
   "metadata": {},
   "source": [
    "## Graphs"
   ]
  },
  {
   "cell_type": "code",
   "execution_count": 16,
   "id": "a4464c7a-7e50-4c83-be6c-dafc7a155495",
   "metadata": {
    "scrolled": true
   },
   "outputs": [
    {
     "data": {
      "image/png": "[encoded data removed]",
      "text/plain": [
       "<Figure size 2000x600 with 1 Axes>"
      ]
     },
     "metadata": {},
     "output_type": "display_data"
    }
   ],
   "source": [
    "plt.figure(1, figsize=(20, 6))\n",
    "plt.scatter([i for i in range(np.shape((y_pred_test))[0])], y_pred_test)\n",
    "plt.scatter([i for i in range(np.shape((y_test))[0])], y_test);"
   ]
  },
  {
   "cell_type": "code",
   "execution_count": 17,
   "id": "5a96baf0-f728-4dad-8e4d-e6bf40c31408",
   "metadata": {
    "scrolled": true
   },
   "outputs": [
    {
     "data": {
      "image/png": "[encoded data removed]",
      "text/plain": [
       "<Figure size 500x500 with 1 Axes>"
      ]
     },
     "metadata": {},
     "output_type": "display_data"
    }
   ],
   "source": [
    "sns.catplot(x = y_test.values.ravel(), y = 'Age' , data = df_test);"
   ]
  },
  {
   "cell_type": "markdown",
   "id": "0e2bb54f-1fef-470a-b5e5-5e6c67978d53",
   "metadata": {},
   "source": [
    "# Sigmoid curve"
   ]
  },
  {
   "cell_type": "code",
   "execution_count": 18,
   "id": "3ed9dfc5-ece5-47b5-8620-6aee66fd2137",
   "metadata": {},
   "outputs": [],
   "source": [
    "z = np.dot(df[df_features], lr.weights) + lr.bias\n",
    "y = 1/(1+np.exp(-1*z))"
   ]
  },
  {
   "cell_type": "code",
   "execution_count": 19,
   "id": "821956c7-3741-4725-9e84-4234590d355c",
   "metadata": {},
   "outputs": [
    {
     "data": {
      "image/png": "[encoded data removed]",
      "text/plain": [
       "<Figure size 1200x600 with 1 Axes>"
      ]
     },
     "metadata": {},
     "output_type": "display_data"
    }
   ],
   "source": [
    "plt.figure(figsize = (12,6))\n",
    "plt.scatter(z,y)\n",
    "plt.axvline(x=0, color='red', linestyle='--', label='x=0')\n",
    "plt.axhline(y=0.5, color='green', linestyle='--', label='y=0.5');"
   ]
  },
  {
   "cell_type": "markdown",
   "id": "16891e4b-f5ff-435b-b7db-2e233860fe1e",
   "metadata": {},
   "source": [
    "# Learning Rate (Cost function vs iterations)"
   ]
  },
  {
   "cell_type": "code",
   "execution_count": 21,
   "id": "67f158a8-77a4-4768-a421-f17b58c72f39",
   "metadata": {},
   "outputs": [
    {
     "data": {
      "image/png": "[encoded data removed]",
      "text/plain": [
       "<Figure size 640x480 with 1 Axes>"
      ]
     },
     "metadata": {},
     "output_type": "display_data"
    }
   ],
   "source": [
    "plt.plot([i for i in range(9999)], lr.cost_values)\n",
    "plt.xlabel(\"iterantion\")\n",
    "plt.ylabel(\"cost function\");\n",
    "# Cost function decreasing iteration by iteration"
   ]
  },
  {
   "cell_type": "code",
   "execution_count": null,
   "id": "4eed56c0-d367-444d-844c-e4f830386180",
   "metadata": {},
   "outputs": [],
   "source": []
  }
 ],
 "metadata": {
  "kernelspec": {
   "display_name": "Python 3 (ipykernel)",
   "language": "python",
   "name": "python3"
  },
  "language_info": {
   "codemirror_mode": {
    "name": "ipython",
    "version": 3
   },
   "file_extension": ".py",
   "mimetype": "text/x-python",
   "name": "python",
   "nbconvert_exporter": "python",
   "pygments_lexer": "ipython3",
   "version": "3.11.4"
  }
 },
 "nbformat": 4,
 "nbformat_minor": 5
}
