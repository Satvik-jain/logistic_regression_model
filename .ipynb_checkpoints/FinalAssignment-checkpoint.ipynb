{
 "cells": [
  {
   "cell_type": "code",
   "execution_count": null,
   "id": "3f7667d6-5a59-4e68-b6cf-e4c9ba2e8c43",
   "metadata": {},
   "outputs": [],
   "source": [
    "import numpy as np\n",
    "import matplotlib.pyplot as plt\n",
    "import pandas as pd\n",
    "import seaborn as sns"
   ]
  },
  {
   "cell_type": "code",
   "execution_count": null,
   "id": "60c4dfd1-ea82-45df-98e6-5ef575bd3190",
   "metadata": {},
   "outputs": [],
   "source": [
    "class LogisticRegression:\n",
    "    def __init__(self):\n",
    "        self.weights = None\n",
    "        self.bias = 0\n",
    "        self.m = 0\n",
    "        self.n = 0\n",
    "        \n",
    "    def Fit(self, df_features, df_prob, learning_rate):\n",
    "        self.m, self.n = df_features.shape\n",
    "        self.weights = np.zeros((self.n,1))\n",
    "        df_prob = df_prob.to_numpy()\n",
    "        df_prob_pred = self.sigmoid(df_features)\n",
    "\n",
    "        self.GD(df_prob, df_features, learning_rate)\n",
    "\n",
    "\n",
    "    def GD(self, y, x, rate):\n",
    "        iterations = 1 \n",
    "        while iterations < 10000: \n",
    "            y_pred = self.sigmoid(x)\n",
    "            dw = (1/self.m) * np.dot(x.T,(y_pred - y))\n",
    "            db = (1/self.m) * np.sum(y_pred - y)\n",
    "            self.weights -= rate*dw\n",
    "            self.bias -= rate*db\n",
    "            iterations += 1\n",
    "\n",
    "    def sigmoid(self, features):\n",
    "        z = np.dot(features, self.weights) + self.bias\n",
    "        return 1/(1+np.exp(-1*z))\n",
    "        \n",
    "    def predict(self, features):\n",
    "        z = np.dot(features, self.weights) + self.bias\n",
    "        return np.where(z > 0, 1, 0)\n",
    "\n",
    "    def Split(self, df, train_fraction): # I used train fraction as a parameter to be more flexible :)\n",
    "        df_train = df.sample(frac = train_fraction, random_state=13)\n",
    "        df_test = df.iloc[[indices for indices in df.index if indices not in df_train.index]]\n",
    "        return df_train,df_test        "
   ]
  },
  {
   "cell_type": "code",
   "execution_count": null,
   "id": "99419afd-e60b-4aab-9bf6-a6dfbaeca912",
   "metadata": {},
   "outputs": [],
   "source": [
    "df = pd.read_csv(\"diabetes (1).csv\")"
   ]
  },
  {
   "cell_type": "code",
   "execution_count": null,
   "id": "0848514c-8c70-42ff-bd13-01aa64f83602",
   "metadata": {},
   "outputs": [],
   "source": [
    "lr = LogisticRegression()"
   ]
  },
  {
   "cell_type": "code",
   "execution_count": null,
   "id": "c0257e75-1b01-4adf-a30c-917e996fa5cb",
   "metadata": {},
   "outputs": [],
   "source": [
    "df_train,df_test = lr.Split(df, 0.8)"
   ]
  },
  {
   "cell_type": "code",
   "execution_count": null,
   "id": "a851003c-cf4d-4b8d-a695-17d053393f04",
   "metadata": {},
   "outputs": [],
   "source": [
    "df_features = df.columns.values.tolist() # Since we know df can be treated as a dictionary of lists\n",
    "df_features.pop(8)\n",
    "x_train = df_train[df_features]\n",
    "y_train = df_train[['Outcome']]\n",
    "x_test = df_test[df_features]\n",
    "y_test = df_test[['Outcome']]"
   ]
  },
  {
   "cell_type": "code",
   "execution_count": null,
   "id": "49b5d55b-5476-4364-975a-5443861bef7d",
   "metadata": {},
   "outputs": [],
   "source": [
    "lr.Fit(x_train, y_train, learning_rate = 0.0001)"
   ]
  },
  {
   "cell_type": "code",
   "execution_count": null,
   "id": "7b6c85c1-d6d6-4c65-a28c-6df88177c11f",
   "metadata": {},
   "outputs": [],
   "source": [
    "lr.weights"
   ]
  },
  {
   "cell_type": "code",
   "execution_count": null,
   "id": "b9fe903a-61d0-4652-a523-39ae6b323289",
   "metadata": {},
   "outputs": [],
   "source": [
    "lr.bias"
   ]
  },
  {
   "cell_type": "code",
   "execution_count": null,
   "id": "8a99a65d-0c33-476b-8039-28073229d38f",
   "metadata": {},
   "outputs": [],
   "source": [
    "y_pred_test = lr.predict(x_test)\n",
    "y_pred_test.flatten()"
   ]
  },
  {
   "cell_type": "markdown",
   "id": "ba8bf78a-da79-4a09-a86f-c596a65fc116",
   "metadata": {},
   "source": [
    "## Now i will calculate the percentage accuracy:"
   ]
  },
  {
   "cell_type": "code",
   "execution_count": null,
   "id": "ea87f414-3cca-431e-ad19-1f439e08e6a6",
   "metadata": {},
   "outputs": [],
   "source": [
    "percentage = (((lr.predict(x_train) == y_train).sum().values[0])/np.shape((y_train))[0])*100\n",
    "percentage = \"{:.2f}\".format(percentage)\n",
    "print(f\"The percetage accuracy of the model on train data is {percentage} %\")"
   ]
  },
  {
   "cell_type": "code",
   "execution_count": null,
   "id": "eee2df2a-1db2-4ca2-8737-894975181406",
   "metadata": {},
   "outputs": [],
   "source": [
    "percentage = (((y_pred_test == y_test).sum().values[0])/np.shape((y_pred_test))[0])*100\n",
    "percentage = \"{:.2f}\".format(percentage)\n",
    "print(f\"The percetage accuracy of the model on test data is {percentage} %\")"
   ]
  },
  {
   "cell_type": "markdown",
   "id": "d3f407dc-ebde-4125-9d6a-a65e1be57d45",
   "metadata": {},
   "source": [
    "## Graphs"
   ]
  },
  {
   "cell_type": "code",
   "execution_count": null,
   "id": "a4464c7a-7e50-4c83-be6c-dafc7a155495",
   "metadata": {
    "scrolled": true
   },
   "outputs": [],
   "source": [
    "plt.figure(1, figsize=(20, 6))\n",
    "plt.scatter([i for i in range(np.shape((y_pred_test))[0])], y_pred_test)\n",
    "plt.scatter([i for i in range(np.shape((y_test))[0])], y_test);"
   ]
  },
  {
   "cell_type": "code",
   "execution_count": null,
   "id": "5a96baf0-f728-4dad-8e4d-e6bf40c31408",
   "metadata": {},
   "outputs": [],
   "source": [
    "sns.catplot(x = y_test.values.ravel(), y = 'Age' , data = df_test);"
   ]
  },
  {
   "cell_type": "code",
   "execution_count": null,
   "id": "3ed9dfc5-ece5-47b5-8620-6aee66fd2137",
   "metadata": {},
   "outputs": [],
   "source": [
    "z = np.dot(df[df_features], lr.weights) + lr.bias\n",
    "y = 1/(1+np.exp(-1*z))"
   ]
  },
  {
   "cell_type": "code",
   "execution_count": null,
   "id": "821956c7-3741-4725-9e84-4234590d355c",
   "metadata": {},
   "outputs": [],
   "source": [
    "plt.figure(figsize = (12,6))\n",
    "plt.scatter(z,y)\n",
    "plt.axvline(x=0, color='red', linestyle='--', label='x=0')\n",
    "plt.axhline(y=0.5, color='green', linestyle='--', label='y=0.5');"
   ]
  }
 ],
 "metadata": {
  "kernelspec": {
   "display_name": "Python 3 (ipykernel)",
   "language": "python",
   "name": "python3"
  },
  "language_info": {
   "codemirror_mode": {
    "name": "ipython",
    "version": 3
   },
   "file_extension": ".py",
   "mimetype": "text/x-python",
   "name": "python",
   "nbconvert_exporter": "python",
   "pygments_lexer": "ipython3",
   "version": "3.11.4"
  }
 },
 "nbformat": 4,
 "nbformat_minor": 5
}
